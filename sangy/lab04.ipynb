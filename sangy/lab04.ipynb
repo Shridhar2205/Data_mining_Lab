{
  "nbformat": 4,
  "nbformat_minor": 0,
  "metadata": {
    "colab": {
      "provenance": []
    },
    "kernelspec": {
      "name": "python3",
      "display_name": "Python 3"
    },
    "language_info": {
      "name": "python"
    }
  },
  "cells": [
    {
      "cell_type": "code",
      "execution_count": null,
      "metadata": {
        "id": "ncbLlKn_UAfF"
      },
      "outputs": [],
      "source": [
        "import matplotlib.pyplot as plt\n",
        "import numpy as np\n",
        "import pandas as pd\n"
      ]
    },
    {
      "cell_type": "code",
      "source": [
        "test_df = pd.read_csv(\"test.csv\")\n",
        "train_df=pd.read_csv(\"train.csv\")"
      ],
      "metadata": {
        "id": "e-ZBrqKvUj9T"
      },
      "execution_count": null,
      "outputs": []
    },
    {
      "cell_type": "code",
      "source": [
        "import statistics"
      ],
      "metadata": {
        "id": "A732uB76U9hi"
      },
      "execution_count": null,
      "outputs": []
    },
    {
      "cell_type": "markdown",
      "source": [],
      "metadata": {
        "id": "quKjH04smsZp"
      }
    },
    {
      "cell_type": "code",
      "source": [
        "u=statistics.mean(train_df['Age'])"
      ],
      "metadata": {
        "id": "7VsOrNBuVh41"
      },
      "execution_count": null,
      "outputs": []
    },
    {
      "cell_type": "code",
      "source": [
        "print(u)"
      ],
      "metadata": {
        "colab": {
          "base_uri": "https://localhost:8080/"
        },
        "id": "SfeR3A-eWE_n",
        "outputId": "66e17396-2e2c-4c63-f9c0-156fc6b123c0"
      },
      "execution_count": null,
      "outputs": [
        {
          "output_type": "stream",
          "name": "stdout",
          "text": [
            "nan\n"
          ]
        }
      ]
    },
    {
      "cell_type": "code",
      "source": [
        "mean = sum(train_df['Age']) / len(train_df['Age'])"
      ],
      "metadata": {
        "id": "Sk9-oP1MYHn9"
      },
      "execution_count": null,
      "outputs": []
    },
    {
      "cell_type": "code",
      "source": [
        "print(mean)"
      ],
      "metadata": {
        "colab": {
          "base_uri": "https://localhost:8080/"
        },
        "id": "WJvW3P6_YPty",
        "outputId": "fbbf966b-be2e-44ec-a93d-afcbf55fe91b"
      },
      "execution_count": null,
      "outputs": [
        {
          "output_type": "stream",
          "name": "stdout",
          "text": [
            "nan\n"
          ]
        }
      ]
    },
    {
      "cell_type": "code",
      "source": [
        "data = [train_df, test_df]\n",
        "\n",
        "for dataset in data:\n",
        "    mean = train_df[\"Age\"].mean()\n",
        "    std = test_df[\"Age\"].std()\n",
        "    is_null = dataset[\"Age\"].isnull().sum()\n",
        "    # compute random numbers between the mean, std and is_null\n",
        "    rand_age = np.random.randint(mean - std, mean + std, size = is_null)\n",
        "    # fill NaN values in Age column with random values generated\n",
        "    age_slice = dataset[\"Age\"].copy()\n",
        "    age_slice[np.isnan(age_slice)] = rand_age\n",
        "    dataset[\"Age\"] = age_slice\n",
        "    dataset[\"Age\"] = train_df[\"Age\"].astype(int)\n",
        "train_df[\"Age\"].isnull().sum()"
      ],
      "metadata": {
        "colab": {
          "base_uri": "https://localhost:8080/"
        },
        "id": "d3BCm-WWYxLP",
        "outputId": "591bb47e-8516-4a24-ca62-f2d1377aaef9"
      },
      "execution_count": null,
      "outputs": [
        {
          "output_type": "execute_result",
          "data": {
            "text/plain": [
              "0"
            ]
          },
          "metadata": {},
          "execution_count": 8
        }
      ]
    },
    {
      "cell_type": "code",
      "source": [
        "std_dev=statistics.stdev(train_df['Age'])\n",
        "print(std_dev)"
      ],
      "metadata": {
        "colab": {
          "base_uri": "https://localhost:8080/"
        },
        "id": "nbz18SXGZMCr",
        "outputId": "1ac2cbb2-52bc-46a2-e028-acd473a179f0"
      },
      "execution_count": null,
      "outputs": [
        {
          "output_type": "stream",
          "name": "stdout",
          "text": [
            "13.49383039791902\n"
          ]
        }
      ]
    },
    {
      "cell_type": "markdown",
      "source": [
        "**Z-Score**"
      ],
      "metadata": {
        "id": "OXCBnN8VdJOE"
      }
    },
    {
      "cell_type": "code",
      "source": [
        "z=(train_df['PassengerId'],(train_df['Age']-mean)/std_dev)\n",
        "print(z)"
      ],
      "metadata": {
        "colab": {
          "base_uri": "https://localhost:8080/"
        },
        "id": "93fljZxsZa_d",
        "outputId": "7c0e6915-fe50-4ef5-a76c-a15512b6aecc"
      },
      "execution_count": null,
      "outputs": [
        {
          "output_type": "stream",
          "name": "stdout",
          "text": [
            "(0        1\n",
            "1        2\n",
            "2        3\n",
            "3        4\n",
            "4        5\n",
            "      ... \n",
            "886    887\n",
            "887    888\n",
            "888    889\n",
            "889    890\n",
            "890    891\n",
            "Name: PassengerId, Length: 891, dtype: int64, 0     -0.554104\n",
            "1      0.631623\n",
            "2     -0.257673\n",
            "3      0.409299\n",
            "4      0.409299\n",
            "         ...   \n",
            "886   -0.183565\n",
            "887   -0.776428\n",
            "888    0.483407\n",
            "889   -0.257673\n",
            "890    0.186975\n",
            "Name: Age, Length: 891, dtype: float64)\n"
          ]
        }
      ]
    },
    {
      "cell_type": "code",
      "source": [
        "m=max(train_df['Age'])"
      ],
      "metadata": {
        "id": "V-MrRZNqdRJZ"
      },
      "execution_count": null,
      "outputs": []
    },
    {
      "cell_type": "code",
      "source": [
        "mi=train_df['Survived'].min()"
      ],
      "metadata": {
        "id": "wDQB0nfng0Pl"
      },
      "execution_count": null,
      "outputs": []
    },
    {
      "cell_type": "code",
      "source": [
        "mi=train_df['Age'].min()\n",
        "print(mi)"
      ],
      "metadata": {
        "colab": {
          "base_uri": "https://localhost:8080/"
        },
        "id": "q0hzP47weSWj",
        "outputId": "b13bf7a4-be8c-44a8-bd16-ddb70be4686d"
      },
      "execution_count": null,
      "outputs": [
        {
          "output_type": "stream",
          "name": "stdout",
          "text": [
            "0\n"
          ]
        }
      ]
    },
    {
      "cell_type": "code",
      "source": [
        "train_df.describe()"
      ],
      "metadata": {
        "colab": {
          "base_uri": "https://localhost:8080/",
          "height": 300
        },
        "id": "HAtuOjw6e7eE",
        "outputId": "df7eda98-5efa-4a34-a717-8adabf92ea05"
      },
      "execution_count": null,
      "outputs": [
        {
          "output_type": "execute_result",
          "data": {
            "text/plain": [
              "       PassengerId    Survived      Pclass         Age       SibSp  \\\n",
              "count   891.000000  891.000000  891.000000  891.000000  891.000000   \n",
              "mean    446.000000    0.383838    2.308642   29.476992    0.523008   \n",
              "std     257.353842    0.486592    0.836071   13.493830    1.102743   \n",
              "min       1.000000    0.000000    1.000000    0.000000    0.000000   \n",
              "25%     223.500000    0.000000    2.000000   21.000000    0.000000   \n",
              "50%     446.000000    0.000000    3.000000   28.000000    0.000000   \n",
              "75%     668.500000    1.000000    3.000000   37.000000    1.000000   \n",
              "max     891.000000    1.000000    3.000000   80.000000    8.000000   \n",
              "\n",
              "            Parch        Fare  \n",
              "count  891.000000  891.000000  \n",
              "mean     0.381594   32.204208  \n",
              "std      0.806057   49.693429  \n",
              "min      0.000000    0.000000  \n",
              "25%      0.000000    7.910400  \n",
              "50%      0.000000   14.454200  \n",
              "75%      0.000000   31.000000  \n",
              "max      6.000000  512.329200  "
            ],
            "text/html": [
              "\n",
              "  <div id=\"df-88e9537b-d51d-40c6-b6be-1b7d16b208da\" class=\"colab-df-container\">\n",
              "    <div>\n",
              "<style scoped>\n",
              "    .dataframe tbody tr th:only-of-type {\n",
              "        vertical-align: middle;\n",
              "    }\n",
              "\n",
              "    .dataframe tbody tr th {\n",
              "        vertical-align: top;\n",
              "    }\n",
              "\n",
              "    .dataframe thead th {\n",
              "        text-align: right;\n",
              "    }\n",
              "</style>\n",
              "<table border=\"1\" class=\"dataframe\">\n",
              "  <thead>\n",
              "    <tr style=\"text-align: right;\">\n",
              "      <th></th>\n",
              "      <th>PassengerId</th>\n",
              "      <th>Survived</th>\n",
              "      <th>Pclass</th>\n",
              "      <th>Age</th>\n",
              "      <th>SibSp</th>\n",
              "      <th>Parch</th>\n",
              "      <th>Fare</th>\n",
              "    </tr>\n",
              "  </thead>\n",
              "  <tbody>\n",
              "    <tr>\n",
              "      <th>count</th>\n",
              "      <td>891.000000</td>\n",
              "      <td>891.000000</td>\n",
              "      <td>891.000000</td>\n",
              "      <td>891.000000</td>\n",
              "      <td>891.000000</td>\n",
              "      <td>891.000000</td>\n",
              "      <td>891.000000</td>\n",
              "    </tr>\n",
              "    <tr>\n",
              "      <th>mean</th>\n",
              "      <td>446.000000</td>\n",
              "      <td>0.383838</td>\n",
              "      <td>2.308642</td>\n",
              "      <td>29.476992</td>\n",
              "      <td>0.523008</td>\n",
              "      <td>0.381594</td>\n",
              "      <td>32.204208</td>\n",
              "    </tr>\n",
              "    <tr>\n",
              "      <th>std</th>\n",
              "      <td>257.353842</td>\n",
              "      <td>0.486592</td>\n",
              "      <td>0.836071</td>\n",
              "      <td>13.493830</td>\n",
              "      <td>1.102743</td>\n",
              "      <td>0.806057</td>\n",
              "      <td>49.693429</td>\n",
              "    </tr>\n",
              "    <tr>\n",
              "      <th>min</th>\n",
              "      <td>1.000000</td>\n",
              "      <td>0.000000</td>\n",
              "      <td>1.000000</td>\n",
              "      <td>0.000000</td>\n",
              "      <td>0.000000</td>\n",
              "      <td>0.000000</td>\n",
              "      <td>0.000000</td>\n",
              "    </tr>\n",
              "    <tr>\n",
              "      <th>25%</th>\n",
              "      <td>223.500000</td>\n",
              "      <td>0.000000</td>\n",
              "      <td>2.000000</td>\n",
              "      <td>21.000000</td>\n",
              "      <td>0.000000</td>\n",
              "      <td>0.000000</td>\n",
              "      <td>7.910400</td>\n",
              "    </tr>\n",
              "    <tr>\n",
              "      <th>50%</th>\n",
              "      <td>446.000000</td>\n",
              "      <td>0.000000</td>\n",
              "      <td>3.000000</td>\n",
              "      <td>28.000000</td>\n",
              "      <td>0.000000</td>\n",
              "      <td>0.000000</td>\n",
              "      <td>14.454200</td>\n",
              "    </tr>\n",
              "    <tr>\n",
              "      <th>75%</th>\n",
              "      <td>668.500000</td>\n",
              "      <td>1.000000</td>\n",
              "      <td>3.000000</td>\n",
              "      <td>37.000000</td>\n",
              "      <td>1.000000</td>\n",
              "      <td>0.000000</td>\n",
              "      <td>31.000000</td>\n",
              "    </tr>\n",
              "    <tr>\n",
              "      <th>max</th>\n",
              "      <td>891.000000</td>\n",
              "      <td>1.000000</td>\n",
              "      <td>3.000000</td>\n",
              "      <td>80.000000</td>\n",
              "      <td>8.000000</td>\n",
              "      <td>6.000000</td>\n",
              "      <td>512.329200</td>\n",
              "    </tr>\n",
              "  </tbody>\n",
              "</table>\n",
              "</div>\n",
              "    <div class=\"colab-df-buttons\">\n",
              "\n",
              "  <div class=\"colab-df-container\">\n",
              "    <button class=\"colab-df-convert\" onclick=\"convertToInteractive('df-88e9537b-d51d-40c6-b6be-1b7d16b208da')\"\n",
              "            title=\"Convert this dataframe to an interactive table.\"\n",
              "            style=\"display:none;\">\n",
              "\n",
              "  <svg xmlns=\"http://www.w3.org/2000/svg\" height=\"24px\" viewBox=\"0 -960 960 960\">\n",
              "    <path d=\"M120-120v-720h720v720H120Zm60-500h600v-160H180v160Zm220 220h160v-160H400v160Zm0 220h160v-160H400v160ZM180-400h160v-160H180v160Zm440 0h160v-160H620v160ZM180-180h160v-160H180v160Zm440 0h160v-160H620v160Z\"/>\n",
              "  </svg>\n",
              "    </button>\n",
              "\n",
              "  <style>\n",
              "    .colab-df-container {\n",
              "      display:flex;\n",
              "      gap: 12px;\n",
              "    }\n",
              "\n",
              "    .colab-df-convert {\n",
              "      background-color: #E8F0FE;\n",
              "      border: none;\n",
              "      border-radius: 50%;\n",
              "      cursor: pointer;\n",
              "      display: none;\n",
              "      fill: #1967D2;\n",
              "      height: 32px;\n",
              "      padding: 0 0 0 0;\n",
              "      width: 32px;\n",
              "    }\n",
              "\n",
              "    .colab-df-convert:hover {\n",
              "      background-color: #E2EBFA;\n",
              "      box-shadow: 0px 1px 2px rgba(60, 64, 67, 0.3), 0px 1px 3px 1px rgba(60, 64, 67, 0.15);\n",
              "      fill: #174EA6;\n",
              "    }\n",
              "\n",
              "    .colab-df-buttons div {\n",
              "      margin-bottom: 4px;\n",
              "    }\n",
              "\n",
              "    [theme=dark] .colab-df-convert {\n",
              "      background-color: #3B4455;\n",
              "      fill: #D2E3FC;\n",
              "    }\n",
              "\n",
              "    [theme=dark] .colab-df-convert:hover {\n",
              "      background-color: #434B5C;\n",
              "      box-shadow: 0px 1px 3px 1px rgba(0, 0, 0, 0.15);\n",
              "      filter: drop-shadow(0px 1px 2px rgba(0, 0, 0, 0.3));\n",
              "      fill: #FFFFFF;\n",
              "    }\n",
              "  </style>\n",
              "\n",
              "    <script>\n",
              "      const buttonEl =\n",
              "        document.querySelector('#df-88e9537b-d51d-40c6-b6be-1b7d16b208da button.colab-df-convert');\n",
              "      buttonEl.style.display =\n",
              "        google.colab.kernel.accessAllowed ? 'block' : 'none';\n",
              "\n",
              "      async function convertToInteractive(key) {\n",
              "        const element = document.querySelector('#df-88e9537b-d51d-40c6-b6be-1b7d16b208da');\n",
              "        const dataTable =\n",
              "          await google.colab.kernel.invokeFunction('convertToInteractive',\n",
              "                                                    [key], {});\n",
              "        if (!dataTable) return;\n",
              "\n",
              "        const docLinkHtml = 'Like what you see? Visit the ' +\n",
              "          '<a target=\"_blank\" href=https://colab.research.google.com/notebooks/data_table.ipynb>data table notebook</a>'\n",
              "          + ' to learn more about interactive tables.';\n",
              "        element.innerHTML = '';\n",
              "        dataTable['output_type'] = 'display_data';\n",
              "        await google.colab.output.renderOutput(dataTable, element);\n",
              "        const docLink = document.createElement('div');\n",
              "        docLink.innerHTML = docLinkHtml;\n",
              "        element.appendChild(docLink);\n",
              "      }\n",
              "    </script>\n",
              "  </div>\n",
              "\n",
              "\n",
              "<div id=\"df-8992e34b-6610-434f-9c4b-d67ef2c5d0db\">\n",
              "  <button class=\"colab-df-quickchart\" onclick=\"quickchart('df-8992e34b-6610-434f-9c4b-d67ef2c5d0db')\"\n",
              "            title=\"Suggest charts\"\n",
              "            style=\"display:none;\">\n",
              "\n",
              "<svg xmlns=\"http://www.w3.org/2000/svg\" height=\"24px\"viewBox=\"0 0 24 24\"\n",
              "     width=\"24px\">\n",
              "    <g>\n",
              "        <path d=\"M19 3H5c-1.1 0-2 .9-2 2v14c0 1.1.9 2 2 2h14c1.1 0 2-.9 2-2V5c0-1.1-.9-2-2-2zM9 17H7v-7h2v7zm4 0h-2V7h2v10zm4 0h-2v-4h2v4z\"/>\n",
              "    </g>\n",
              "</svg>\n",
              "  </button>\n",
              "\n",
              "<style>\n",
              "  .colab-df-quickchart {\n",
              "      --bg-color: #E8F0FE;\n",
              "      --fill-color: #1967D2;\n",
              "      --hover-bg-color: #E2EBFA;\n",
              "      --hover-fill-color: #174EA6;\n",
              "      --disabled-fill-color: #AAA;\n",
              "      --disabled-bg-color: #DDD;\n",
              "  }\n",
              "\n",
              "  [theme=dark] .colab-df-quickchart {\n",
              "      --bg-color: #3B4455;\n",
              "      --fill-color: #D2E3FC;\n",
              "      --hover-bg-color: #434B5C;\n",
              "      --hover-fill-color: #FFFFFF;\n",
              "      --disabled-bg-color: #3B4455;\n",
              "      --disabled-fill-color: #666;\n",
              "  }\n",
              "\n",
              "  .colab-df-quickchart {\n",
              "    background-color: var(--bg-color);\n",
              "    border: none;\n",
              "    border-radius: 50%;\n",
              "    cursor: pointer;\n",
              "    display: none;\n",
              "    fill: var(--fill-color);\n",
              "    height: 32px;\n",
              "    padding: 0;\n",
              "    width: 32px;\n",
              "  }\n",
              "\n",
              "  .colab-df-quickchart:hover {\n",
              "    background-color: var(--hover-bg-color);\n",
              "    box-shadow: 0 1px 2px rgba(60, 64, 67, 0.3), 0 1px 3px 1px rgba(60, 64, 67, 0.15);\n",
              "    fill: var(--button-hover-fill-color);\n",
              "  }\n",
              "\n",
              "  .colab-df-quickchart-complete:disabled,\n",
              "  .colab-df-quickchart-complete:disabled:hover {\n",
              "    background-color: var(--disabled-bg-color);\n",
              "    fill: var(--disabled-fill-color);\n",
              "    box-shadow: none;\n",
              "  }\n",
              "\n",
              "  .colab-df-spinner {\n",
              "    border: 2px solid var(--fill-color);\n",
              "    border-color: transparent;\n",
              "    border-bottom-color: var(--fill-color);\n",
              "    animation:\n",
              "      spin 1s steps(1) infinite;\n",
              "  }\n",
              "\n",
              "  @keyframes spin {\n",
              "    0% {\n",
              "      border-color: transparent;\n",
              "      border-bottom-color: var(--fill-color);\n",
              "      border-left-color: var(--fill-color);\n",
              "    }\n",
              "    20% {\n",
              "      border-color: transparent;\n",
              "      border-left-color: var(--fill-color);\n",
              "      border-top-color: var(--fill-color);\n",
              "    }\n",
              "    30% {\n",
              "      border-color: transparent;\n",
              "      border-left-color: var(--fill-color);\n",
              "      border-top-color: var(--fill-color);\n",
              "      border-right-color: var(--fill-color);\n",
              "    }\n",
              "    40% {\n",
              "      border-color: transparent;\n",
              "      border-right-color: var(--fill-color);\n",
              "      border-top-color: var(--fill-color);\n",
              "    }\n",
              "    60% {\n",
              "      border-color: transparent;\n",
              "      border-right-color: var(--fill-color);\n",
              "    }\n",
              "    80% {\n",
              "      border-color: transparent;\n",
              "      border-right-color: var(--fill-color);\n",
              "      border-bottom-color: var(--fill-color);\n",
              "    }\n",
              "    90% {\n",
              "      border-color: transparent;\n",
              "      border-bottom-color: var(--fill-color);\n",
              "    }\n",
              "  }\n",
              "</style>\n",
              "\n",
              "  <script>\n",
              "    async function quickchart(key) {\n",
              "      const quickchartButtonEl =\n",
              "        document.querySelector('#' + key + ' button');\n",
              "      quickchartButtonEl.disabled = true;  // To prevent multiple clicks.\n",
              "      quickchartButtonEl.classList.add('colab-df-spinner');\n",
              "      try {\n",
              "        const charts = await google.colab.kernel.invokeFunction(\n",
              "            'suggestCharts', [key], {});\n",
              "      } catch (error) {\n",
              "        console.error('Error during call to suggestCharts:', error);\n",
              "      }\n",
              "      quickchartButtonEl.classList.remove('colab-df-spinner');\n",
              "      quickchartButtonEl.classList.add('colab-df-quickchart-complete');\n",
              "    }\n",
              "    (() => {\n",
              "      let quickchartButtonEl =\n",
              "        document.querySelector('#df-8992e34b-6610-434f-9c4b-d67ef2c5d0db button');\n",
              "      quickchartButtonEl.style.display =\n",
              "        google.colab.kernel.accessAllowed ? 'block' : 'none';\n",
              "    })();\n",
              "  </script>\n",
              "</div>\n",
              "    </div>\n",
              "  </div>\n"
            ]
          },
          "metadata": {},
          "execution_count": 14
        }
      ]
    },
    {
      "cell_type": "markdown",
      "source": [
        "**Mean Normalization**"
      ],
      "metadata": {
        "id": "6tZQvkcUmzB2"
      }
    },
    {
      "cell_type": "code",
      "source": [
        "mean_normalization=(train_df['Age']-mean)/m-mi\n",
        "print(mean_normalization)"
      ],
      "metadata": {
        "colab": {
          "base_uri": "https://localhost:8080/"
        },
        "id": "mLN0mN8Pf0MB",
        "outputId": "489b7c37-0fb3-4d7a-e336-0a5c40594cdf"
      },
      "execution_count": null,
      "outputs": [
        {
          "output_type": "stream",
          "name": "stdout",
          "text": [
            "0     -0.093462\n",
            "1      0.106538\n",
            "2     -0.043462\n",
            "3      0.069038\n",
            "4      0.069038\n",
            "         ...   \n",
            "886   -0.030962\n",
            "887   -0.130962\n",
            "888    0.081538\n",
            "889   -0.043462\n",
            "890    0.031538\n",
            "Name: Age, Length: 891, dtype: float64\n"
          ]
        }
      ]
    },
    {
      "cell_type": "code",
      "source": [
        "abs(train_df['Fare'])"
      ],
      "metadata": {
        "colab": {
          "base_uri": "https://localhost:8080/"
        },
        "id": "lTaRq3aUhNoE",
        "outputId": "4fa8e5f5-c3f1-4f9f-dc15-1debb91f6a95"
      },
      "execution_count": null,
      "outputs": [
        {
          "output_type": "execute_result",
          "data": {
            "text/plain": [
              "0       7.2500\n",
              "1      71.2833\n",
              "2       7.9250\n",
              "3      53.1000\n",
              "4       8.0500\n",
              "        ...   \n",
              "886    13.0000\n",
              "887    30.0000\n",
              "888    23.4500\n",
              "889    30.0000\n",
              "890     7.7500\n",
              "Name: Fare, Length: 891, dtype: float64"
            ]
          },
          "metadata": {},
          "execution_count": 16
        }
      ]
    },
    {
      "cell_type": "markdown",
      "source": [
        "**Min-max**"
      ],
      "metadata": {
        "id": "WSLd7xIvm4Pb"
      }
    },
    {
      "cell_type": "code",
      "source": [
        "from sklearn.preprocessing import minmax_scale\n"
      ],
      "metadata": {
        "id": "ABW4CnaKiteN"
      },
      "execution_count": null,
      "outputs": []
    },
    {
      "cell_type": "code",
      "source": [
        "print(minmax_scale(train_df['Age']))"
      ],
      "metadata": {
        "colab": {
          "base_uri": "https://localhost:8080/"
        },
        "id": "PzRKWHE0i-kf",
        "outputId": "6698195c-4f7a-4e94-f923-a39d64a49ccc"
      },
      "execution_count": null,
      "outputs": [
        {
          "output_type": "stream",
          "name": "stdout",
          "text": [
            "[0.275  0.475  0.325  0.4375 0.4375 0.2375 0.675  0.025  0.3375 0.175\n",
            " 0.05   0.725  0.25   0.4875 0.175  0.6875 0.025  0.2375 0.3875 0.3125\n",
            " 0.4375 0.425  0.1875 0.35   0.1    0.475  0.2    0.2375 0.3875 0.275\n",
            " 0.5    0.2875 0.3125 0.825  0.35   0.525  0.4125 0.2625 0.225  0.175\n",
            " 0.5    0.3375 0.3    0.0375 0.2375 0.3875 0.1875 0.5    0.4    0.225\n",
            " 0.0875 0.2625 0.6125 0.3625 0.8125 0.4875 0.2625 0.35   0.0625 0.1375\n",
            " 0.275  0.475  0.5625 0.05   0.2    0.45   0.3625 0.2375 0.2125 0.325\n",
            " 0.4    0.2    0.2625 0.325  0.4    0.3125 0.475  0.225  0.     0.375\n",
            " 0.275  0.3625 0.5125 0.35   0.2125 0.4125 0.2    0.4125 0.2875 0.3\n",
            " 0.3625 0.25   0.575  0.325  0.7375 0.3    0.8875 0.2875 0.425  0.425\n",
            " 0.35   0.5    0.2625 0.4125 0.4625 0.35   0.2625 0.225  0.475  0.5\n",
            " 0.5875 0.175  0.275  0.25   0.2125 0.2625 0.875  0.3625 0.3    0.025\n",
            " 0.2625 0.4    0.4    0.4    0.675  0.15   0.425  0.3    0.35   0.5625\n",
            " 0.4125 0.25   0.5875 0.3625 0.3125 0.2875 0.2375 0.4625 0.2    0.3\n",
            " 0.275  0.275  0.3    0.2375 0.225  0.2375 0.3375 0.1125 0.45   0.525\n",
            " 0.6375 0.275  0.6875 0.5    0.4375 0.6375 0.2    0.375  0.2375 0.4625\n",
            " 0.55   0.5    0.325  0.2125 0.0125 0.1125 0.2875 0.5625 0.2125 0.35\n",
            " 0.7625 0.05   0.0125 0.2625 0.7    0.225  0.2375 0.625  0.375  0.45\n",
            " 0.25   0.525  0.1125 0.0125 0.05   0.45   0.2375 0.5625 0.5    0.45\n",
            " 0.4    0.2375 0.2375 0.0375 0.55   0.725  0.3    0.525  0.2375 0.3\n",
            " 0.35   0.325  0.425  0.5625 0.225  0.025  0.4    0.325  0.2    0.5\n",
            " 0.3    0.4375 0.275  0.375  0.4    0.3875 0.3375 0.525  0.4    0.375\n",
            " 0.2    0.3375 0.6375 0.35   0.475  0.275  0.2375 0.25   0.225  0.4375\n",
            " 0.4375 0.3625 0.7375 0.0625 0.3    0.2125 0.55   0.1    0.2375 0.4125\n",
            " 0.325  0.525  0.3625 0.275  0.375  0.55   0.3125 0.3    0.4625 0.675\n",
            " 0.525  0.3625 0.775  0.375  0.5125 0.3625 0.3    0.375  0.4375 0.625\n",
            " 0.3625 0.0375 0.65   0.5    0.2625 0.45   0.2    0.3125 0.725  0.4375\n",
            " 0.4125 0.3125 0.5125 0.4625 0.3625 0.7875 0.5625 0.425  0.0875 0.4375\n",
            " 0.8125 0.35   0.2    0.2375 0.2    0.4125 0.375  0.275  0.525  0.275\n",
            " 0.325  0.2375 0.45   0.3    0.3    0.425  0.2875 0.025  0.2875 0.625\n",
            " 0.5125 0.2    0.2375 0.425  0.3125 0.     0.4125 0.2125 0.375  0.375\n",
            " 0.3    0.225  0.325  0.35   0.5375 0.325  0.3    0.675  0.3875 0.5\n",
            " 0.275  0.3375 0.375  0.275  0.5    0.45   0.7625 0.45   0.3875 0.2\n",
            " 0.4875 0.5625 0.475  0.2    0.4875 0.2125 0.3625 0.5125 0.5625 0.5625\n",
            " 0.025  0.3    0.35   0.3125 0.45   0.3    0.5    0.3125 0.0375 0.525\n",
            " 0.2875 0.25   0.1875 0.3125 0.475  0.35   0.275  0.475  0.3625 0.525\n",
            " 0.5    0.3625 0.5625 0.4375 0.225  0.375  0.75   0.3125 0.3    0.3\n",
            " 0.3125 0.225  0.2375 0.275  0.0375 0.2625 0.275  0.3375 0.25   0.2375\n",
            " 0.525  0.0125 0.4    0.4375 0.5125 0.225  0.0125 0.45   0.4625 0.2125\n",
            " 0.45   0.2625 0.35   0.2875 0.3    0.275  0.3875 0.575  0.2875 0.35\n",
            " 0.4875 0.325  0.2625 0.35   0.25   0.425  0.6375 0.0375 0.2625 0.2\n",
            " 0.275  0.375  0.4125 0.3875 0.55   0.225  0.425  0.225  0.375  0.125\n",
            " 0.5    0.2625 0.3625 0.35   0.225  0.2875 0.35   0.2375 0.5    0.4\n",
            " 0.35   0.1875 0.525  0.2125 0.625  0.175  0.2625 0.3    0.8    0.3875\n",
            " 0.5625 0.25   0.3125 0.35   0.4625 0.05   0.1625 0.425  0.0625 0.65\n",
            " 0.45   0.425  0.375  0.6125 0.5    0.3625 0.8125 0.4125 0.625  0.2875\n",
            " 0.6    0.425  0.5875 0.6    0.2    0.475  0.425  0.7    0.525  0.\n",
            " 0.325  0.475  0.4125 0.2875 0.275  0.3875 0.425  0.3625 0.275  0.025\n",
            " 0.1125 0.1875 0.625  0.7875 0.3125 0.3625 0.4375 0.725  0.375  0.1125\n",
            " 0.35   0.2625 0.6875 0.8875 0.2625 0.4    0.675  0.3875 0.3125 0.3\n",
            " 0.2125 0.2625 0.2875 0.4625 0.2    0.225  0.4125 0.3875 0.35   0.325\n",
            " 0.3625 0.425  0.45   0.675  0.3    0.5875 0.425  0.2    0.45   0.4\n",
            " 0.375  0.275  0.4875 0.55   0.525  0.5    0.625  0.35   0.4875 0.2875\n",
            " 0.025  0.3375 0.2125 0.4375 0.375  0.0875 0.5625 0.375  0.2375 0.275\n",
            " 0.45   0.1125 0.1375 0.4    0.625  0.8    0.2375 0.2    0.4125 0.1\n",
            " 0.2125 0.3375 0.475  0.275  0.275  0.775  0.6    0.3375 0.4875 0.45\n",
            " 0.3875 0.5    0.35   0.2875 0.4625 0.3    0.2375 0.3625 0.525  0.4\n",
            " 0.775  0.6625 0.45   0.225  0.2    0.2375 0.425  0.4875 0.2625 0.4\n",
            " 0.3125 0.4875 0.675  0.45   0.25   0.225  0.5875 0.75   0.275  0.35\n",
            " 0.4375 0.65   0.5875 0.3625 0.4625 0.45   0.45   0.6125 0.3625 0.6125\n",
            " 0.3    0.4875 0.4625 0.55   0.4375 0.45   0.375  0.3375 0.275  0.5\n",
            " 0.4875 0.4625 0.4125 0.2375 0.4375 0.3    0.425  0.325  0.05   0.325\n",
            " 0.3375 0.525  0.25   0.2625 0.2625 0.7625 0.7125 0.2625 0.325  0.2875\n",
            " 1.     0.6375 0.4    0.3125 0.1125 0.35   0.4    0.3875 0.5125 0.4375\n",
            " 0.25   0.3    0.025  0.4375 0.     0.6    0.2375 0.7    0.2375 0.2875\n",
            " 0.4625 0.225  0.2625 0.25   0.225  0.3    0.25   0.4    0.2875 0.725\n",
            " 0.625  0.5    0.5875 0.45   0.25   0.4    0.3125 0.45   0.5375 0.3875\n",
            " 0.5    0.3875 0.875  0.3875 0.2875 0.225  0.3    0.225  0.5375 0.45\n",
            " 0.4625 0.3375 0.25   0.175  0.75   0.3125 0.175  0.2375 0.225  0.1875\n",
            " 0.3875 0.05   0.3875 0.3125 0.75   0.65   0.55   0.35   0.6125 0.525\n",
            " 0.225  0.4375 0.225  0.3125 0.325  0.4875 0.5625 0.525  0.275  0.275\n",
            " 0.3    0.45   0.6    0.3625 0.65   0.2375 0.475  0.3375 0.4125 0.4125\n",
            " 0.075  0.2125 0.425  0.625  0.3375 0.25   0.375  0.325  0.3125 0.3125\n",
            " 0.3625 0.1375 0.2875 0.2875 0.2875 0.35   0.6    0.4375 0.375  0.3375\n",
            " 0.2    0.45   0.2625 0.3    0.3875 0.875  0.2    0.375  0.2375 0.3875\n",
            " 0.05   0.075  0.4125 0.2875 0.6    0.     0.35   0.225  0.425  0.4125\n",
            " 0.425  0.5125 0.25   0.45   0.2    0.6375 0.225  0.375  0.35   0.4\n",
            " 0.3    0.6    0.7125 0.35   0.675  0.225  0.3375 0.0625 0.275  0.5375\n",
            " 0.1625 0.2125 0.3625 0.4875 0.3125 0.3125 0.225  0.1    0.0125 0.575\n",
            " 0.3625 0.2    0.2375 0.425  0.3125 0.4875 0.6125 0.3875 0.375  0.375\n",
            " 0.425  0.3875 0.1375 0.     0.3375 0.3875 0.4875 0.225  0.4875 0.4125\n",
            " 0.325  0.4875 0.4375 0.075  0.375  0.3375 0.2875 0.3875 0.5375 0.125\n",
            " 0.65   0.3375 0.475  0.3375 0.025  0.4375 0.5    0.0125 0.35   0.775\n",
            " 0.1875 0.     0.2875 0.2875 0.225  0.4875 0.2625 0.3125 0.4    0.4875\n",
            " 0.25   0.2    0.375  0.425  0.2125 0.525  0.525  0.4375 0.35   0.4625\n",
            " 0.05   0.925  0.1125 0.2    0.55   0.225  0.5625 0.6375 0.3    0.3875\n",
            " 0.5125 0.2625 0.6    0.25   0.3    0.525  0.3375 0.3875 0.2125 0.05\n",
            " 0.325  0.5875 0.4125 0.5875 0.35   0.1875 0.25   0.2375 0.2875 0.7\n",
            " 0.3125 0.4125 0.275  0.35   0.3125 0.4875 0.3375 0.2375 0.45   0.325\n",
            " 0.4   ]\n"
          ]
        }
      ]
    },
    {
      "cell_type": "code",
      "source": [
        "x=(train_df['Fare']-min(train_df['Fare']))/(max(train_df['Fare'])-min(train_df['Fare']))"
      ],
      "metadata": {
        "id": "AQwzX5UFoGna"
      },
      "execution_count": null,
      "outputs": []
    },
    {
      "cell_type": "markdown",
      "source": [
        "Absolute Max"
      ],
      "metadata": {
        "id": "D5mtKFs-mg7e"
      }
    },
    {
      "cell_type": "code",
      "source": [
        "max_abs=train_df['Fare']/abs(train_df['Fare'].max())\n",
        "print(max_abs)"
      ],
      "metadata": {
        "colab": {
          "base_uri": "https://localhost:8080/"
        },
        "id": "Z90FwJptjKeY",
        "outputId": "d6d7e09e-3f2e-4a15-975f-55128e5ee0de"
      },
      "execution_count": null,
      "outputs": [
        {
          "output_type": "stream",
          "name": "stdout",
          "text": [
            "0      0.014151\n",
            "1      0.139136\n",
            "2      0.015469\n",
            "3      0.103644\n",
            "4      0.015713\n",
            "         ...   \n",
            "886    0.025374\n",
            "887    0.058556\n",
            "888    0.045771\n",
            "889    0.058556\n",
            "890    0.015127\n",
            "Name: Fare, Length: 891, dtype: float64\n"
          ]
        }
      ]
    },
    {
      "cell_type": "markdown",
      "source": [
        "Robust Scaling"
      ],
      "metadata": {
        "id": "xBb8o-lnmche"
      }
    },
    {
      "cell_type": "code",
      "source": [
        "q1=np.percentile((train_df['Fare']),25)\n",
        "q3=np.percentile((train_df['Fare']),75)"
      ],
      "metadata": {
        "id": "bGgGSlr4lmGj"
      },
      "execution_count": null,
      "outputs": []
    },
    {
      "cell_type": "code",
      "source": [
        "print(q1,q3)"
      ],
      "metadata": {
        "colab": {
          "base_uri": "https://localhost:8080/"
        },
        "id": "0bKWE9col9kD",
        "outputId": "c072099e-eda5-4979-f9ab-bd8e72db38fc"
      },
      "execution_count": null,
      "outputs": [
        {
          "output_type": "stream",
          "name": "stdout",
          "text": [
            "7.9104 31.0\n"
          ]
        }
      ]
    },
    {
      "cell_type": "code",
      "source": [
        "r=(train_df['Fare']-q1)/(q3-q1)\n",
        "print(r)"
      ],
      "metadata": {
        "colab": {
          "base_uri": "https://localhost:8080/"
        },
        "id": "GFlG3_7UmDyL",
        "outputId": "10488c9d-c6d0-4213-ec99-38d954ccba7f"
      },
      "execution_count": null,
      "outputs": [
        {
          "output_type": "stream",
          "name": "stdout",
          "text": [
            "0     -0.028602\n",
            "1      2.744651\n",
            "2      0.000632\n",
            "3      1.957141\n",
            "4      0.006046\n",
            "         ...   \n",
            "886    0.220428\n",
            "887    0.956690\n",
            "888    0.673013\n",
            "889    0.956690\n",
            "890   -0.006947\n",
            "Name: Fare, Length: 891, dtype: float64\n"
          ]
        }
      ]
    }
  ]
}