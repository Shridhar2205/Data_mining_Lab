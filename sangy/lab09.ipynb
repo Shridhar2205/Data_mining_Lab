{
  "nbformat": 4,
  "nbformat_minor": 0,
  "metadata": {
    "colab": {
      "provenance": []
    },
    "kernelspec": {
      "name": "python3",
      "display_name": "Python 3"
    },
    "language_info": {
      "name": "python"
    }
  },
  "cells": [
    {
      "cell_type": "code",
      "execution_count": null,
      "metadata": {
        "id": "Yig_eBKqAzr9"
      },
      "outputs": [],
      "source": []
    },
    {
      "cell_type": "code",
      "source": [],
      "metadata": {
        "id": "_V2evaouE6Jd"
      },
      "execution_count": null,
      "outputs": []
    },
    {
      "cell_type": "markdown",
      "source": [
        "**Gradient Boosting**"
      ],
      "metadata": {
        "id": "ovCtCcrCE3ou"
      }
    },
    {
      "cell_type": "code",
      "source": [
        "# Import models and utility functions\n",
        "from sklearn.ensemble import GradientBoostingClassifier\n",
        "from sklearn.model_selection import train_test_split\n",
        "from sklearn.metrics import accuracy_score\n",
        "from sklearn.datasets import load_digits\n",
        "\n",
        "# Setting SEED for reproducibility\n",
        "SEED = 23\n",
        "\n",
        "# Importing the dataset\n",
        "X, y = load_digits(return_X_y=True)\n",
        "\n",
        "# Splitting dataset\n",
        "train_X, test_X, train_y, test_y = train_test_split(X, y,\n",
        "\t\t\t\t\t\t\t\t\t\t\t\t\ttest_size = 0.25,\n",
        "\t\t\t\t\t\t\t\t\t\t\t\t\trandom_state = SEED)\n",
        "\n",
        "# Instantiate Gradient Boosting Regressor\n",
        "gbc = GradientBoostingClassifier(n_estimators=300,\n",
        "\t\t\t\t\t\t\t\tlearning_rate=0.05,\n",
        "\t\t\t\t\t\t\t\trandom_state=100,\n",
        "\t\t\t\t\t\t\t\tmax_features=5 )\n",
        "# Fit to training set\n",
        "gbc.fit(train_X, train_y)\n",
        "\n",
        "# Predict on test set\n",
        "pred_y = gbc.predict(test_X)\n",
        "\n",
        "# accuracy\n",
        "acc = accuracy_score(test_y, pred_y)\n",
        "print(\"Gradient Boosting Classifier accuracy is : {:.2f}\".format(acc))\n"
      ],
      "metadata": {
        "colab": {
          "base_uri": "https://localhost:8080/"
        },
        "id": "wUtmtm47E_Tf",
        "outputId": "b7a2ded8-c645-4395-be46-ee7a42710037"
      },
      "execution_count": null,
      "outputs": [
        {
          "output_type": "stream",
          "name": "stdout",
          "text": [
            "Gradient Boosting Classifier accuracy is : 0.98\n"
          ]
        }
      ]
    },
    {
      "cell_type": "code",
      "source": [
        "# Importing necessary libraries\n",
        "import pandas as pd\n",
        "from sklearn.model_selection import train_test_split\n",
        "from sklearn.ensemble import GradientBoostingRegressor\n",
        "from sklearn.metrics import mean_squared_error\n",
        "\n",
        "# Load the dataset\n",
        "df = pd.read_csv('For_modeling.csv')\n",
        "\n",
        "# Assuming your dataset has features and target variable\n",
        "# Features are stored in X, and the target variable (trip duration) is stored in y\n",
        "X = df.drop(columns=['Duration'])\n",
        "y = df['Duration']\n",
        "# Dropping rows with missing values\n",
        "X.dropna(inplace=True)\n",
        "y = y[X.index]  # Align y with the updated indices of X\n",
        "\n",
        "# Splitting the data into training and testing sets\n",
        "X_train, X_test, y_train, y_test = train_test_split(X, y, test_size=0.2, random_state=42)\n",
        "\n",
        "# Creating the Gradient Boosting Regressor model\n",
        "gb_model = GradientBoostingRegressor()\n",
        "\n",
        "# Training the model\n",
        "gb_model.fit(X_train, y_train)\n",
        "\n",
        "# Predicting on the test set\n",
        "y_pred = gb_model.predict(X_test)\n",
        "\n",
        "# Calculating mean squared error\n",
        "mse = mean_squared_error(y_test, y_pred)\n",
        "print(\"Mean Squared Error:\", mse)\n"
      ],
      "metadata": {
        "id": "NHhqTfmKJuRW"
      },
      "execution_count": null,
      "outputs": []
    },
    {
      "cell_type": "code",
      "source": [
        "# Importing necessary libraries\n",
        "import pandas as pd\n",
        "from sklearn.model_selection import train_test_split\n",
        "from sklearn.ensemble import GradientBoostingRegressor\n",
        "from sklearn.metrics import mean_squared_error\n",
        "\n",
        "# Load the dataset\n",
        "df = pd.read_csv('For_modeling.csv')\n",
        "\n",
        "# Assuming your dataset has features and target variable\n",
        "# Features are stored in X, and the target variable (trip duration) is stored in y\n",
        "X = df.drop(columns=['Duration'])\n",
        "y = df['Duration']\n",
        "# Dropping rows with missing values\n",
        "X.dropna(inplace=True)\n",
        "y = y[X.index]  # Align y with the updated indices of X\n",
        "\n",
        "# Splitting the data into training and testing sets\n",
        "X_train, X_test, y_train, y_test = train_test_split(X, y, test_size=0.2, random_state=42)\n",
        "\n",
        "# Creating the Gradient Boosting Regressor model\n",
        "gbc = GradientBoostingClassifier(n_estimators=300,\n",
        "\t\t\t\t\t\t\t\tlearning_rate=0.05,\n",
        "\t\t\t\t\t\t\t\trandom_state=100,\n",
        "\t\t\t\t\t\t\t\tmax_features=5 )\n",
        "# Fit to training set\n",
        "gbc.fit(train_X, train_y)\n",
        "\n",
        "# Predict on test set\n",
        "pred_y = gbc.predict(test_X)\n",
        "\n",
        "# accuracy\n",
        "acc = accuracy_score(test_y, pred_y)\n",
        "print(\"Gradient Boosting Classifier accuracy is : {:.2f}\".format(acc))\n",
        "\n",
        "# Calculating mean squared error\n",
        "mse = mean_squared_error(test_y, pred_y)\n",
        "print(\"Mean Squared Error:\", mse)\n"
      ],
      "metadata": {
        "id": "PSENH5w8JNWY",
        "colab": {
          "base_uri": "https://localhost:8080/"
        },
        "outputId": "26270b45-2213-4f9e-cbf1-68cbedf0b314"
      },
      "execution_count": null,
      "outputs": [
        {
          "output_type": "stream",
          "name": "stdout",
          "text": [
            "Gradient Boosting Classifier accuracy is : 0.98\n",
            "Mean Squared Error: 0.3088888888888889\n"
          ]
        }
      ]
    },
    {
      "cell_type": "code",
      "source": [
        "# Dropping rows with missing values\n",
        "X.dropna(inplace=True)\n",
        "y = y[X.index]  # Align y with the updated indices of X\n"
      ],
      "metadata": {
        "id": "BvrE_0qCHXhR"
      },
      "execution_count": null,
      "outputs": []
    },
    {
      "cell_type": "code",
      "source": [],
      "metadata": {
        "id": "tbnmVi79MXGP"
      },
      "execution_count": null,
      "outputs": []
    },
    {
      "cell_type": "markdown",
      "source": [
        "**XGBoosting**"
      ],
      "metadata": {
        "id": "klo_QGjWE4c0"
      }
    },
    {
      "cell_type": "code",
      "source": [],
      "metadata": {
        "id": "tib93tJgMi-W"
      },
      "execution_count": null,
      "outputs": []
    },
    {
      "cell_type": "code",
      "source": [
        "import xgboost as xgb\n",
        "# Splitting the data into training and testing sets\n",
        "X_train, X_test, y_train, y_test = train_test_split(X, y, test_size=0.2, random_state=42)\n",
        "\n",
        "# Creating the XGBoost model\n",
        "xgb_model = xgb.XGBRegressor()\n",
        "\n",
        "# Training the model\n",
        "xgb_model.fit(X_train, y_train)\n",
        "\n",
        "# Predicting on the test set\n",
        "y_pred = xgb_model.predict(X_test)\n",
        "\n",
        "# Calculating mean squared error\n",
        "mse = mean_squared_error(y_test, y_pred)\n",
        "print(\"Mean Squared Error:\", mse)"
      ],
      "metadata": {
        "colab": {
          "base_uri": "https://localhost:8080/"
        },
        "id": "kyJD9yKZMbNn",
        "outputId": "a4e47d9d-d609-442c-8e56-ecb946e32da3"
      },
      "execution_count": null,
      "outputs": [
        {
          "output_type": "stream",
          "name": "stdout",
          "text": [
            "Mean Squared Error: 32.284545956720656\n"
          ]
        }
      ]
    }
  ]
}